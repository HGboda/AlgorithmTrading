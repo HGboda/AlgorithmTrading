{
 "metadata": {
  "name": "",
  "signature": "sha256:dc59bb64474b89ea7fb65f417619f8ce6cc2b259e53a53d821d2c4a19cdcfdee"
 },
 "nbformat": 3,
 "nbformat_minor": 0,
 "worksheets": [
  {
   "cells": [
    {
     "cell_type": "code",
     "collapsed": false,
     "input": [
      "from IPython.core.display import HTML\n",
      "def css_styling():\n",
      "    styles = open(\"../../custom.css\", \"r\").read()\n",
      "    return HTML(styles)\n",
      "\n",
      "css_styling()"
     ],
     "language": "python",
     "metadata": {},
     "outputs": [
      {
       "html": [
        "<style>\n",
        "    #notebook_panel { /* main background */\n",
        "    background: #333;\n",
        "    color: #f6f6f6;\n",
        "}\n",
        "\n",
        "div #notebook { /* centre the content */\n",
        "    background: #fff;\n",
        "    color: #333;\n",
        "    width: 100%;\n",
        "    margin: auto;\n",
        "    padding-left: 1em;\n",
        "    padding-right: 1em;\n",
        "    padding-top: 2ex;\n",
        "}\n",
        "\n",
        "/* remove big margins around title */\n",
        "div.text_cell_render.border-box-sizing.rendered_html {\n",
        "    margin: 0;\n",
        "    padding: 0; \n",
        "    margin-left: 1ex;\n",
        "}\n",
        "div.cell.text_cell.border-box-sizing {\n",
        "    margin: 0;\n",
        "    padding: 0; \n",
        "}\n",
        ".rendered_html h1 {\n",
        "    margin: 0;\n",
        "    padding: 0;\n",
        "}\n",
        ".rendered_html h2 {\n",
        "    margin: 0;\n",
        "    padding: 0;\n",
        "}\n",
        ".rendered_html h3 {\n",
        "    margin: 0;\n",
        "    padding: 0;\n",
        "}\n",
        "\n",
        "div.cell { /* set cell width to about 80 chars */\n",
        "    width: 100%;\n",
        "\n",
        "}\n",
        "\n",
        "div.cell.code_cell { /* area that contains code + output */\n",
        "    background: #fff;\n",
        "    border: none;\n",
        "    border-radius: 10px;\n",
        "    padding-top: 1ex;\n",
        "\n",
        "}\n",
        "\n",
        "div.input_area { /* box around box with code */\n",
        "    border: none;\n",
        "    background: #f5f5f5;\n",
        "    border: 1px solid #ccc;\n",
        "    border-radius: 10px;\n",
        "    padding-top: 0.5ex;\n",
        "    padding-bottom: 0.5ex;\n",
        "    padding-left: 0.5em;\n",
        "}\n",
        "\n",
        "div.input { /* box with code */\n",
        "}\n",
        "\n",
        "div.CodeMirror { /* code font */\n",
        "    font-family: \"Inconsolata-dz\", monospace;\n",
        "    font-size: 10pt;\n",
        "}\n",
        "\n",
        "div.prompt { /* remove In/Out prompt */\n",
        "    display: none;\n",
        "}\n",
        "\n",
        "div.output_subarea { /* remove margin in front of output */\n",
        "    border: none;\n",
        "}\n",
        "\n",
        "div.cell.border-box-sizing.code_cell.running { \n",
        "    /* draw border around running cells */\n",
        "    border: 3px dotted #f33;\n",
        "}\n",
        "\n",
        "/* header colours and fonts */\n",
        "h1 { color: #444; }\n",
        "h2 { color: #444; }\n",
        "h3 { color: #444; font-style: italic; font-weight: normal}\n",
        "\n",
        "\n",
        "table.dataframe {\n",
        "font-size:80%;\n",
        "width:100%;\n",
        "}\n",
        "\n",
        "\n",
        ".debugtb1\n",
        "{\n",
        "    font-family: \"Lucida Sans Unicode\", \"Lucida Grande\", Sans-Serif;\n",
        "    font-size: 11px;\n",
        "    /*margin: 45px;*/\n",
        "    /*width: 480px;*/\n",
        "    margin: 1%;\n",
        "    width: 100%;\n",
        "    text-align: left;\n",
        "    border-collapse: collapse;\n",
        "}\n",
        ".debugtb1 th\n",
        "{\n",
        "    font-size: 11px;\n",
        "    font-weight: normal;\n",
        "    padding: 8px;\n",
        "    background: #b9c9fe;\n",
        "    border-top: 4px solid #aabcfe;\n",
        "    border-bottom: 1px solid #fff;\n",
        "    color: #039;\n",
        "}\n",
        ".debugtb1 td\n",
        "{\n",
        "    padding: 8px;\n",
        "    background: #e8edff; \n",
        "    border-bottom: 1px solid #fff;\n",
        "    color: #669;\n",
        "    border-top: 1px solid transparent;\n",
        "}\n",
        ".debugtb1 tr:hover td\n",
        "{\n",
        "    background: #d0dafd;\n",
        "    color: #339;\n",
        "}\n",
        "\n",
        ".debugtb2\n",
        "{\n",
        "    font-family: \"Lucida Sans Unicode\", \"Lucida Grande\", Sans-Serif;\n",
        "    font-size: 12px;\n",
        "    margin: 45px;\n",
        "    width: 480px;\n",
        "    text-align: center;\n",
        "    border-collapse: collapse;\n",
        "    border-top: 7px solid #9baff1;\n",
        "    border-bottom: 7px solid #9baff1;\n",
        "}\n",
        ".debugtb2 th\n",
        "{\n",
        "    font-size: 13px;\n",
        "    font-weight: normal;\n",
        "    padding: 8px;\n",
        "    background: #e8edff;\n",
        "    border-right: 1px solid #9baff1;\n",
        "    border-left: 1px solid #9baff1;\n",
        "    color: #039;\n",
        "}\n",
        ".debugtb2 td\n",
        "{\n",
        "    padding: 8px;\n",
        "    background: #e8edff; \n",
        "    border-right: 1px solid #aabcfe;\n",
        "    border-left: 1px solid #aabcfe;\n",
        "    color: #669;\n",
        "}\n",
        "</style>"
       ],
       "metadata": {},
       "output_type": "pyout",
       "prompt_number": 2,
       "text": [
        "<IPython.core.display.HTML at 0x2945f50>"
       ]
      }
     ],
     "prompt_number": 2
    },
    {
     "cell_type": "code",
     "collapsed": false,
     "input": [
      "import hist_save as hs\n",
      "reload(hs)\n",
      "hs.simulAuto()\n",
      "# hs.test()"
     ],
     "language": "python",
     "metadata": {},
     "outputs": [
      {
       "output_type": "stream",
       "stream": "stdout",
       "text": [
        "Results ready!\n",
        "total run elapsed time: 2142.8587419\n"
       ]
      }
     ],
     "prompt_number": 5
    },
    {
     "cell_type": "code",
     "collapsed": false,
     "input": [
      "import hist_save as hs\n",
      "reload(hs)\n",
      "hs.get_kospi_index()\n",
      "# hs.test()"
     ],
     "language": "python",
     "metadata": {},
     "outputs": [],
     "prompt_number": 6
    },
    {
     "cell_type": "code",
     "collapsed": false,
     "input": [
      "from hist_save import *\n",
      "import hist_save as hs\n",
      "reload(hs)\n",
      "# hs.test2()\n",
      "hs.simulAuto_SP()\n",
      "# hs.test()"
     ],
     "language": "python",
     "metadata": {},
     "outputs": []
    },
    {
     "cell_type": "code",
     "collapsed": false,
     "input": [
      "from hist_save import *\n",
      "import hist_save as hs\n",
      "reload(hs)\n",
      "# hs.test2()\n",
      "hs.simulAuto_NAS()\n",
      "# hs.test()"
     ],
     "language": "python",
     "metadata": {},
     "outputs": [
      {
       "output_type": "stream",
       "stream": "stdout",
       "text": [
        "Results ready!\n",
        "total run elapsed time: 444.0826285\n"
       ]
      }
     ],
     "prompt_number": 3
    },
    {
     "cell_type": "code",
     "collapsed": false,
     "input": [
      "import hist_save as hs\n",
      "reload(hs)\n",
      "hs.get_dow_index()\n",
      "# hs.test()"
     ],
     "language": "python",
     "metadata": {},
     "outputs": [
      {
       "output_type": "stream",
       "stream": "stdout",
       "text": [
        "typearg 4\n",
        "startdate 2008-01-01 GOOG/INDEXDJX_DJI dow <type 'str'> 4\n",
        "getting world hist db  GOOG/INDEXDJX_DJI 2008-01-01\n",
        "----------final sorted bars---------"
       ]
      },
      {
       "output_type": "stream",
       "stream": "stdout",
       "text": [
        "\n",
        "                Open      High       Low     Close     Volume  week\n",
        "Date                                                               \n",
        "2016-05-19  17514.16  17514.16  17331.07  17435.40   95531058     3\n",
        "2016-05-20  17437.32  17571.75  17437.32  17500.94  111992332     4\n",
        "2016-05-23  17507.04  17550.70  17480.05  17492.93   87790873     0\n",
        "2016-05-24  17525.19  17742.59  17525.19  17706.05   86473207     1\n",
        "2016-05-25  17735.09  17891.71  17735.09  17851.51   79182001     2\n",
        "real time data web gathering elapsed time: 2.83970443241\n",
        "hist saving start\n",
        "C:/Users/Administrator/Documents/IPython Notebooks/stock_simul/data/hist/hist_db_INDEXDJX_DJI.sqlite\n",
        "bars2\n",
        "                   Date      Open      High       Low     Close     Volume  week\n",
        "876 2016-05-19 00:00:00  17514.16  17514.16  17331.07  17435.40   95531058     3\n",
        "877 2016-05-20 00:00:00  17437.32  17571.75  17437.32  17500.94  111992332     4\n",
        "878 2016-05-23 00:00:00  17507.04  17550.70  17480.05  17492.93   87790873     0\n",
        "879 2016-05-24 00:00:00  17525.19  17742.59  17525.19  17706.05   86473207     1\n",
        "880 2016-05-25 00:00:00  17735.09  17891.71  17735.09  17851.51   79182001     2\n",
        "histdb save done"
       ]
      },
      {
       "output_type": "stream",
       "stream": "stdout",
       "text": [
        "\n"
       ]
      },
      {
       "output_type": "stream",
       "stream": "stderr",
       "text": [
        "C:\\Anaconda\\lib\\site-packages\\pandas\\core\\config.py:570: DeprecationWarning: height has been deprecated.\n",
        "\n",
        "  warnings.warn(d.msg, DeprecationWarning)\n",
        "C:\\Anaconda\\lib\\site-packages\\pandas\\core\\config.py:570: DeprecationWarning: height has been deprecated.\n",
        "\n",
        "  warnings.warn(d.msg, DeprecationWarning)\n"
       ]
      }
     ],
     "prompt_number": 1
    }
   ],
   "metadata": {}
  }
 ]
}